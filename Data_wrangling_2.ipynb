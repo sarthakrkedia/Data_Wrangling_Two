{
 "cells": [
  {
   "cell_type": "markdown",
   "metadata": {},
   "source": [
    "<h1> Data Wrangling 2</h1>\n",
    " \n",
    "\n"
   ]
  },
  {
   "cell_type": "code",
   "execution_count": 1,
   "metadata": {
    "scrolled": true
   },
   "outputs": [
    {
     "name": "stderr",
     "output_type": "stream",
     "text": [
      "/anaconda3/lib/python3.7/site-packages/sklearn/cross_validation.py:41: DeprecationWarning: This module was deprecated in version 0.18 in favor of the model_selection module into which all the refactored classes and functions are moved. Also note that the interface of the new CV iterators are different from that of this module. This module will be removed in 0.20.\n",
      "  \"This module will be removed in 0.20.\", DeprecationWarning)\n"
     ]
    }
   ],
   "source": [
    "# Importing Libraries\n",
    "import pandas as pd\n",
    "import numpy as np\n",
    "import matplotlib.pyplot as plt\n",
    "import json\n",
    "#import seaborn as sns\n",
    "from pandas.io.json import json_normalize\n",
    "import re as re\n",
    "import datetime as dt\n",
    "from dateutil.parser import parse # for date format check\n",
    "from sklearn.linear_model import LinearRegression # for price prediction\n",
    "from sklearn.cross_validation import train_test_split # for splitting the data\n",
    "% matplotlib inline\n",
    "from bs4 import BeautifulSoup\n",
    "import xml.etree.ElementTree as ET\n",
    "import collections\n",
    "from sklearn import preprocessing\n",
    "import math"
   ]
  },
  {
   "cell_type": "markdown",
   "metadata": {},
   "source": [
    "<h3 style=\"color:red\">Task 1 Started </h3>"
   ]
  },
  {
   "cell_type": "markdown",
   "metadata": {},
   "source": [
    "<p style=\"color:green;font-weight: bold;font-style: italic;\">The Task 1 is about Integration between S1 and S2: \n",
    "S1 is the file named \"data_s1.csv\" which contains 4,600 records <br>\n",
    "S2 is the file named \"data_s2.xml\" which contains 430 records \n",
    "<br>\n",
    "The final outputed data will have the following attributes and appropriate datatypes. \n",
    "</p>\n",
    "<table style=\"width:100%; border: 1px solid black;\">\n",
    "<tr>\n",
    "<th>Attribute</th>\n",
    "<th>Description</th>\n",
    "</tr>\n",
    "<!-- Date-->\n",
    "<tr>\n",
    "<td>Date</td>\n",
    "<td>Date of the property sold, e.g., 20140502</td>\n",
    "</tr>\n",
    "<!-- Price-->\n",
    "<tr>\n",
    "<td>price</td>\n",
    "<td>Property sold price</td>\n",
    "</tr>\n",
    "<!-- BedRooms-->\n",
    "<tr>\n",
    "<td>bedrooms</td>\n",
    "<td>Number of bedrooms</td>\n",
    "</tr>\n",
    "<!-- BathRooms-->\n",
    "<tr>\n",
    "<td>bathrooms</td>\n",
    "<td>Number of bathrooms, the value of which can be either an integer or a fraction ending with .25, .5, and .75. For example, 0.5 accounts for a room with a toilet but no shower </td>\n",
    "</tr>\n",
    "<!-- Square Feet Living Area-->\n",
    "<tr>\n",
    "<td>sqft_living</td>\n",
    "<td>Square footage of the property's interior living space, it is equal to the sum of basement area (i.e., sqft_basement) and the above living area (i.e., sqft_above) </td>\n",
    "</tr>\n",
    "<!-- Square Feet Lot Area-->\n",
    "<tr>\n",
    "<td>sqft_lot</td>\n",
    "<td>Square footage of the land space</td>\n",
    "</tr>\n",
    "<!-- Floors-->\n",
    "<tr>\n",
    "<td>floors</td>\n",
    "<td>Number of floors</td>\n",
    "</tr>\n",
    "<!-- Water Front-->\n",
    "<tr>\n",
    "<td>waterfront</td>\n",
    "<td>Whether the property was overlooking the waterfront or not</td>\n",
    "</tr>\n",
    "<!-- View-->\n",
    "<tr>\n",
    "<td>view</td>\n",
    "<td>An index from 0 to 4 of how good the view of the property was</td>\n",
    "</tr>\n",
    "<!-- Condition-->\n",
    "<tr>\n",
    "<td>condition</td>\n",
    "<td>An index from 1 to 5 on the condition of the property.</td>\n",
    "</tr>\n",
    "<!-- Square Feet  Above-->\n",
    "<tr>\n",
    "<td>sqft_above</td>\n",
    "<td>The square footage of the interior living space that is above ground level </td>\n",
    "</tr>\n",
    "<!-- Square Feet Basement-->\n",
    "<tr>\n",
    "<td>sqft_basement</td>\n",
    "<td>The square footage of the interior living space that is below ground level </td>\n",
    "</tr>\n",
    "<!-- Year Built-->\n",
    "<tr>\n",
    "<td>yr_built</td>\n",
    "<td>The year the property was initially built </td>\n",
    "</tr>\n",
    "<!-- Year Renovated-->\n",
    "<tr>\n",
    "<td>yr_renovated</td>\n",
    "<td>The year of the property's last renovation</td>\n",
    "</tr>\n",
    "<!-- Street-->\n",
    "<tr>\n",
    "<td>street</td>\n",
    "<td>The street address of the property, e.g., “3140 Franklin Ave E”</td>\n",
    "</tr>\n",
    "<!-- City-->\n",
    "<tr>\n",
    "<td>city</td>\n",
    "<td>The city where the property is, e.g., “Seattle”</td>\n",
    "</tr>\n",
    "<!-- State and Zip Code-->\n",
    "<tr>\n",
    "<td>statezip</td>\n",
    "<td>The zip code area where the property is, which contains state and zip code, separated by a space. For example, “WA 98115”, where WA is the abbreviation of Washington and the number is the zip code.</td>\n",
    "</tr>\n",
    "<!-- Country-->\n",
    "<tr>\n",
    "<td>country</td>\n",
    "<td>The country where the property is, e.g., “USA”</td>\n",
    "</tr>\n",
    "</table>\n",
    "<p style=\"color:red;font-style: italic;\">\n",
    " date              datetime-object\n",
    " <br>\n",
    "price            int64\n",
    "<br>\n",
    "bedrooms           int64\n",
    "<br>\n",
    "bathrooms        float64\n",
    "<br>\n",
    "sqft_living        int64\n",
    "<br>\n",
    "sqft_lot           int64\n",
    "<br>\n",
    "floors           float64\n",
    "<br>\n",
    "waterfront         int64\n",
    "<br>\n",
    "view               int64\n",
    "<br>\n",
    "condition          int64\n",
    "<br>\n",
    "sqft_above         int64\n",
    "<br>\n",
    "sqft_basement      int64\n",
    "<br>\n",
    "yr_built           int64\n",
    "<br>\n",
    "yr_renovated       int64\n",
    "<br>\n",
    "street            object\n",
    "<br>\n",
    "city              object\n",
    "<br>\n",
    "statezip          object\n",
    "<br>\n",
    "country           object\n",
    "<br>\n",
    "</p>"
   ]
  },
  {
   "cell_type": "markdown",
   "metadata": {
    "collapsed": true
   },
   "source": [
    "<h3>Step 1 is to load both the csv and the xml files as a pandas dataframe</h3>"
   ]
  },
  {
   "cell_type": "code",
   "execution_count": 2,
   "metadata": {},
   "outputs": [
    {
     "name": "stderr",
     "output_type": "stream",
     "text": [
      "/anaconda3/lib/python3.7/site-packages/ipykernel_launcher.py:3: FutureWarning: from_csv is deprecated. Please use read_csv(...) instead. Note that some of the default arguments are different, so please refer to the documentation for from_csv when changing your function calls\n",
      "  This is separate from the ipykernel package so we can avoid doing imports until\n"
     ]
    },
    {
     "name": "stdout",
     "output_type": "stream",
     "text": [
      "price            False\n",
      "bedrooms         False\n",
      "bathrooms        False\n",
      "sqft_living      False\n",
      "sqft_lot         False\n",
      "floors           False\n",
      "waterfront       False\n",
      "view             False\n",
      "condition        False\n",
      "sqft_above       False\n",
      "sqft_basement    False\n",
      "yr_built         False\n",
      "yr_renovated      True\n",
      "street           False\n",
      "city             False\n",
      "statezip         False\n",
      "country          False\n",
      "dtype: bool\n"
     ]
    }
   ],
   "source": [
    "\n",
    "# Opening data_s1.csv file and Converting it into pandas Dataframe\n",
    "data_frame1=pd.DataFrame.from_csv('data_s1.csv')\n",
    "print (data_frame1.isnull().any())\n",
    "# Only yr_renovated has Nan Vales\n",
    "# We will deal with this later on\n",
    "\n",
    "# Opening data_s2.xml file using Btree\n",
    "btree = BeautifulSoup(open(\"data_s2.xml\"),\"lxml-xml\") \n",
    "records = btree.find_all(\"record\") # Storing all the records in records result set\n",
    "# Here as I belive price is the target values (y) and the rest of the records are predictor values (x)\n",
    "# I will append price as the last coloumn in both data frames \n",
    "\n",
    "# Among the records creating a list for all the rows tagged date \n",
    "date = [record.string for record in btree.find_all(\"date\")]\n",
    "\n",
    "# Among the records creating a list for all the rows tagged address\n",
    "address = [record.string for record in btree.find_all(\"address\")]\n",
    "\n",
    "# Among the records creating a list for all the rows tagged soldDate \n",
    "sold_dates = [record.string for record in btree.find_all(\"soldDate\")]\n",
    "\n",
    "# Among the records creating a list for all the rows tagged Bedrooms \n",
    "bedrooms = [record.string for record in btree.find_all(\"bedrooms\")]\n",
    "\n",
    "# Among the records creating a list for all the rows tagged bathrooms \n",
    "bathrooms = [record.string for record in btree.find_all(\"bathrooms\")]\n",
    "\n",
    "# Among the records creating a list for all the rows tagged livingArea \n",
    "living_area_sqm = [record.string for record in btree.find_all(\"livingArea\")]\n",
    "\n",
    "# Among the records creating a list for all the rows tagged lotArea \n",
    "lot_area_sqm = [record.string for record in btree.find_all(\"lotArea\")]\n",
    "\n",
    "# Among the records creating a list for all the rows tagged floors \n",
    "floors = [record.string for record in btree.find_all(\"floors\")]\n",
    "\n",
    "# Among the records creating a list for all the rows tagged waterfront \n",
    "waterfront = [record.string for record in btree.find_all(\"waterfront\")]\n",
    "\n",
    "# Among the records creating a list for all the rows tagged view \n",
    "view = [record.string for record in btree.find_all(\"view\")]\n",
    "\n",
    "# Among the records creating a list for all the rows tagged upperArea \n",
    "upper_area = [record.string for record in btree.find_all(\"upperArea\")]\n",
    "\n",
    "# Among the records creating a list for all the rows tagged basementArea \n",
    "basement_area = [record.string for record in btree.find_all(\"basementArea\")]\n",
    "\n",
    "# Among the records creating a list for all the rows tagged buildYear \n",
    "build_yr = [record.string for record in btree.find_all(\"buildYear\")]\n",
    "\n",
    "# Among the records creating a list for all the rows tagged renovateYear \n",
    "renovated_yr = [record.string for record in btree.find_all(\"renovateYear\")]\n",
    "\n",
    "# Among the records creating a list for all the rows tagged price \n",
    "price = [record.string for record in btree.find_all(\"price\")]\n",
    "\n",
    "\n"
   ]
  },
  {
   "cell_type": "code",
   "execution_count": 3,
   "metadata": {},
   "outputs": [
    {
     "name": "stdout",
     "output_type": "stream",
     "text": [
      "date               False\n",
      "address            False\n",
      "sold_Date          False\n",
      "bedrooms           False\n",
      "bathrooms          False\n",
      "sqft_living_sqm    False\n",
      "sqft_lot_sqm       False\n",
      "floors             False\n",
      "waterfront          True\n",
      "view                True\n",
      "sqft_above         False\n",
      "sqft_basement       True\n",
      "yr_built           False\n",
      "yr_renovated       False\n",
      "price              False\n",
      "dtype: bool\n"
     ]
    }
   ],
   "source": [
    "\n",
    "# Creating a datadictonary for all the values of the xml file\n",
    "dataDict = {}\n",
    "dataDict['date'] = date\n",
    "dataDict['address'] = address\n",
    "dataDict['sold_Date'] = sold_dates\n",
    "dataDict['bedrooms'] = bedrooms\n",
    "dataDict['bathrooms'] = bathrooms\n",
    "dataDict['sqft_living_sqm'] = living_area_sqm\n",
    "dataDict['sqft_lot_sqm']=lot_area_sqm\n",
    "dataDict['floors']=floors\n",
    "dataDict['waterfront']=waterfront\n",
    "dataDict['view']=view\n",
    "dataDict['sqft_above']=upper_area\n",
    "dataDict['sqft_basement']=basement_area\n",
    "dataDict['yr_built']=build_yr\n",
    "dataDict['yr_renovated']=renovated_yr\n",
    "\n",
    "dataDict['price'] = price\n",
    "# Creating a dataframe2 with the data dictionary\n",
    "data_frame2 = pd.DataFrame(dataDict,index=date)\n",
    "# I belive for now atleast the index is the data for this dataframe \n",
    "data_frame2.index.name = 'date'\n",
    "\n",
    "print (data_frame2.isnull().any())\n",
    "# sqft_basement view and waterfront has Nan Values\n",
    "# We will deal with them later on\n"
   ]
  },
  {
   "cell_type": "code",
   "execution_count": 4,
   "metadata": {
    "scrolled": false
   },
   "outputs": [
    {
     "name": "stdout",
     "output_type": "stream",
     "text": [
      "price             object\n",
      "bedrooms           int64\n",
      "bathrooms        float64\n",
      "sqft_living        int64\n",
      "sqft_lot           int64\n",
      "floors           float64\n",
      "waterfront         int64\n",
      "view               int64\n",
      "condition          int64\n",
      "sqft_above         int64\n",
      "sqft_basement      int64\n",
      "yr_built           int64\n",
      "yr_renovated     float64\n",
      "street            object\n",
      "city              object\n",
      "statezip          object\n",
      "country           object\n",
      "dtype: object\n",
      "date               object\n",
      "address            object\n",
      "sold_Date          object\n",
      "bedrooms           object\n",
      "bathrooms          object\n",
      "sqft_living_sqm    object\n",
      "sqft_lot_sqm       object\n",
      "floors             object\n",
      "waterfront         object\n",
      "view               object\n",
      "sqft_above         object\n",
      "sqft_basement      object\n",
      "yr_built           object\n",
      "yr_renovated       object\n",
      "price              object\n",
      "dtype: object\n"
     ]
    }
   ],
   "source": [
    "# Now checking wheather the dataframe for the xml file looks the same as the xml file \n",
    "data_frame2.head()\n",
    "# Right now each datatype is object. \n",
    "# This will be changed slowly as we begin intergrating the datasets \n",
    "print (data_frame1.dtypes)\n",
    "print (data_frame2.dtypes)"
   ]
  },
  {
   "cell_type": "markdown",
   "metadata": {},
   "source": [
    "<h3>Step 2 is to examine both the data types side by side.</h3>\n",
    "<h4 style=\"color:red\">Started examine \"date\" column in both the dataframes </h4>\n"
   ]
  },
  {
   "cell_type": "code",
   "execution_count": 5,
   "metadata": {
    "scrolled": false
   },
   "outputs": [
    {
     "name": "stdout",
     "output_type": "stream",
     "text": [
      "datetime64[ns]\n",
      "Index(['date', 'address', 'sold_Date', 'bedrooms', 'bathrooms',\n",
      "       'sqft_living_sqm', 'sqft_lot_sqm', 'floors', 'waterfront', 'view',\n",
      "       'sqft_above', 'sqft_basement', 'yr_built', 'yr_renovated', 'price'],\n",
      "      dtype='object')\n"
     ]
    }
   ],
   "source": [
    "# For data_frame2 the index is the date as well\n",
    "# To check if each date is a valid date and it is in the date format\n",
    "# I have used parse for this purpose\n",
    "# parse will throw an error if anything is wrong with the dates\n",
    "# as it will return the date in datetime format\n",
    "# Checking in the first dataframe \n",
    "data_frame1['date']=data_frame1.index\n",
    "data_frame1.reset_index(drop=True,inplace=True)\n",
    "# then checking the type of the date\n",
    "print (data_frame1.date.dtype)\n",
    "# As it is already in datetime64 we dont need to correct it or modify it \n",
    "\n",
    "\n",
    "# Checking for the second dataframe \n",
    "# In the xml file there are two dates \n",
    "# one is named \"date\"\n",
    "# second one is named \"soldDate\"\n",
    "print (data_frame2.columns)\n",
    "# However there is only one date in the csv file. \n",
    "# As we know both files is for the housing data for the King County in Washington D.C USA\n",
    "# I belive soldDate needs to be used. \n",
    "date2_list=[]\n",
    "updated_date_list=[]\n",
    "date2_list=data_frame2.sold_Date.tolist() # converting series into a list\n",
    "for date in date2_list:\n",
    "    updated_date_list.append(parse(date) ) # Checking for anomalies if not append it to the updated_print_list\n",
    "# Dropping the date from the dataframe \n",
    "# and renaming sold_date as the date\n",
    "data_frame2.drop('date',inplace=True,axis=1) # Dropping date Column from dataframe 2 \n",
    "data_frame2['date']=updated_date_list\n",
    "data_frame2.drop('sold_Date',inplace=True,axis=1) # Dropping sold_date Column as well from dataframe 2 \n",
    "data_frame2.index=np.arange(4600, len(data_frame1) + 430) \n",
    "# The first dataframe is indexed from 0 to 4599\n",
    "# The second dataframe now indexed from 4600 to 5029"
   ]
  },
  {
   "cell_type": "markdown",
   "metadata": {},
   "source": [
    "<h4 style=\"color:green\">Finished examining \"date\" column in both the dataframes </h4>"
   ]
  },
  {
   "cell_type": "markdown",
   "metadata": {},
   "source": [
    "<h4 style=\"color:red\">Starting examining \"price\" column in both the dataframes </h4>"
   ]
  },
  {
   "cell_type": "code",
   "execution_count": 6,
   "metadata": {},
   "outputs": [
    {
     "name": "stdout",
     "output_type": "stream",
     "text": [
      "object\n",
      "int64\n",
      "0\n",
      "0\n"
     ]
    }
   ],
   "source": [
    "# Checking in the first dataframe \n",
    "data_frame1.head()\n",
    "#print (data_frame1.price.dtype) # The price should be price float rather than object \n",
    "# By inspecting I have seen that it is in numbers because it is 313k and 2.384m rather than 313000 and 2384000 \n",
    "# Converting price to Int64 \n",
    "# Creating a price_list1 which will store the prices from dataframe 1 \n",
    "price_list1=data_frame1.price.tolist() # Converitng to a list\n",
    "updated_price_list1=[]\n",
    "# For each price\n",
    "for i in range(0,len(price_list1)):\n",
    "    if (price_list1[i][-1:]=='k'): # If its k\n",
    "        #print (float(price_list1[i][:-1])*1000)\n",
    "        updated_price_list1.append(round (round(float(price_list1[i][:-1])*1000))) # Multiply by 1000 \n",
    "        #print (\"thousands\")\n",
    "    elif (price_list1[i][-1:]=='m'):\n",
    "        updated_price_list1.append(round(round(float(price_list1[i][:-1])*1000000,-1))) # Multiple by 1000000\n",
    "        #print (float(price_list1[i][:-1])*1000000)\n",
    "        #print ('millions')\n",
    "    else:\n",
    "        print (price_list1[i])\n",
    "        print (\"Error\")\n",
    "        # No Errors Found\n",
    "\n",
    "\n",
    "# Updating the old price series from the dataframe \n",
    "data_frame1['price']=updated_price_list1# Dropping date Column from dataframe 2 \n",
    "#data_frame1.drop('updated_price',axis=1,inplace=True)\n",
    "#print (data_frame1.price.dtype)\n",
    "\n",
    "# Checking in the second dataframe \n",
    "print (data_frame2.price.dtype)\n",
    "# In this data frame price is object but upon inspection it is a number \n",
    "# So we just convert all the prices to the int datatype\n",
    "data_frame2['price']=pd.to_numeric(data_frame2.price).astype(int)\n",
    "print (data_frame2.price.dtype)\n",
    "\n",
    "# Checking for missing prices\n",
    "print (len(data_frame1[data_frame1.price==0])) # No missing prices found\n",
    "print (len(data_frame2[data_frame2.price==0]))# No missing prices found"
   ]
  },
  {
   "cell_type": "markdown",
   "metadata": {},
   "source": [
    "<h4 style=\"color:green\" >Finished examining \"price\" column in both the dataframes </h4>"
   ]
  },
  {
   "cell_type": "markdown",
   "metadata": {},
   "source": [
    "<h4 style=\"color:red\">Starting examining \"bedroom\" column in both the dataframes </h4>"
   ]
  },
  {
   "cell_type": "code",
   "execution_count": 7,
   "metadata": {
    "scrolled": false
   },
   "outputs": [
    {
     "name": "stdout",
     "output_type": "stream",
     "text": [
      "        price  bedrooms  bathrooms  sqft_living  sqft_lot  floors  waterfront  \\\n",
      "2523  1095000         0        0.0         3064      4764     3.5           0   \n",
      "3419  1295650         0        0.0         4810     28008     2.0           0   \n",
      "\n",
      "      view  condition  sqft_above  sqft_basement  yr_built  yr_renovated  \\\n",
      "2523     2          3        3064              0      1990           NaN   \n",
      "3419     0          3        4810              0      1990           NaN   \n",
      "\n",
      "                street     city  statezip country       date  \n",
      "2523     814 E Howe St  Seattle  WA 98102     USA 2014-06-12  \n",
      "3419  20418 NE 64th Pl  Redmond  WA 98053     USA 2014-06-24  \n",
      "Empty DataFrame\n",
      "Columns: [address, bedrooms, bathrooms, sqft_living_sqm, sqft_lot_sqm, floors, waterfront, view, sqft_above, sqft_basement, yr_built, yr_renovated, price, date]\n",
      "Index: []\n"
     ]
    }
   ],
   "source": [
    "# Checking the first Dataframe\n",
    "#print (data_frame1.bedrooms.dtype)\n",
    "print (data_frame1[data_frame1.bedrooms <=0]) # 2 records which has equal or less than 0 rooms\n",
    "# It is an integer 64 value \n",
    "\n",
    "\n",
    "# Checking the second Dataframe\n",
    "#print (data_frame2.bedrooms.dtype)\n",
    "# It is an object type but upon inspection it is a number\n",
    "# Converting it to int type\n",
    "data_frame2['bedrooms']=pd.to_numeric(data_frame2.bedrooms).astype(int)\n",
    "#print (data_frame2.bedrooms)\n",
    "print (data_frame2[data_frame2.bedrooms <=0])   # 0 records which has equal or less than 0 rooms"
   ]
  },
  {
   "cell_type": "markdown",
   "metadata": {
    "collapsed": true
   },
   "source": [
    "<h4 style=\"color:green\">Finished examining \"bedroom\" column in both the dataframes </h4>"
   ]
  },
  {
   "cell_type": "markdown",
   "metadata": {
    "collapsed": true
   },
   "source": [
    "<h4 style=\"color:red\">Starting examining \"bathroom\" column in both the dataframes </h4>"
   ]
  },
  {
   "cell_type": "code",
   "execution_count": 8,
   "metadata": {},
   "outputs": [
    {
     "name": "stdout",
     "output_type": "stream",
     "text": [
      "float64\n",
      "        price  bedrooms  bathrooms  sqft_living  sqft_lot  floors  waterfront  \\\n",
      "2523  1095000         0        0.0         3064      4764     3.5           0   \n",
      "3419  1295650         0        0.0         4810     28008     2.0           0   \n",
      "\n",
      "      view  condition  sqft_above  sqft_basement  yr_built  yr_renovated  \\\n",
      "2523     2          3        3064              0      1990           NaN   \n",
      "3419     0          3        4810              0      1990           NaN   \n",
      "\n",
      "                street     city  statezip country       date  \n",
      "2523     814 E Howe St  Seattle  WA 98102     USA 2014-06-12  \n",
      "3419  20418 NE 64th Pl  Redmond  WA 98053     USA 2014-06-24  \n",
      "object\n",
      "Empty DataFrame\n",
      "Columns: [address, bedrooms, bathrooms, sqft_living_sqm, sqft_lot_sqm, floors, waterfront, view, sqft_above, sqft_basement, yr_built, yr_renovated, price, date]\n",
      "Index: []\n"
     ]
    }
   ],
   "source": [
    "# Checking the first Dataframe\n",
    "print (data_frame1.bathrooms.dtype)\n",
    "# Checking for bathrooms value  < 0.25 as 0.25 is the minimum possible value \n",
    "print (data_frame1[data_frame1.bathrooms <0.25])\n",
    "# It is an flaot 64 value \n",
    "\n",
    "\n",
    "# Checking the second Dataframe\n",
    "print (data_frame2.bathrooms.dtype)\n",
    "# It is an object type but upon inspection it is a number\n",
    "# Converting it to float type\n",
    "data_frame2['bathrooms']=pd.to_numeric(data_frame2.bathrooms).astype(float)\n",
    "# Now its float 64 which is correct\n",
    "\n",
    "#print (data_frame2.bathrooms)\n",
    "print (data_frame2[data_frame2.bathrooms <=0])   # 0 records which has equal or less than 0 rooms"
   ]
  },
  {
   "cell_type": "markdown",
   "metadata": {
    "collapsed": true
   },
   "source": [
    "<h4 style=\"color:green\">Finished examining \"bathroom\" column in both the dataframes </h4>"
   ]
  },
  {
   "cell_type": "markdown",
   "metadata": {
    "collapsed": true
   },
   "source": [
    "<h4 style=\"color:red\">Starting examining \"sqft_living\" column in both the dataframes </h4>"
   ]
  },
  {
   "cell_type": "code",
   "execution_count": 9,
   "metadata": {},
   "outputs": [
    {
     "name": "stdout",
     "output_type": "stream",
     "text": [
      "int64\n",
      "int64\n"
     ]
    }
   ],
   "source": [
    "# Checking in dataframe 1\n",
    "print (data_frame1.sqft_living.dtype)\n",
    "# it is the correct data type (int64)\n",
    "\n",
    "# Checking in dataframe 2 \n",
    "# First thing to notice is the Living Area is given in Square Meters \n",
    "# and we have to convert it to Square Feet \n",
    "# Seocond is the data type which is currently object \n",
    "# and it should be int64 as well\n",
    "\n",
    "# Converting Living Area from Square Meters to Squareft\n",
    "#print (data_frame2.sqft_living_sqm)\n",
    "new_sqft_living=[] # Creating a new list to store \n",
    "data_frame2['sqft_living_sqm']=pd.to_numeric(data_frame2.sqft_living_sqm).astype(float) # Convertin to float \n",
    "old_sqft_living=data_frame2.sqft_living_sqm.tolist()\n",
    "\n",
    "for value in old_sqft_living: # For each value \n",
    "    new_sqft_living.append( (round(round(value,7)*10.7639)) ) # Conversion b/w sqm and sqft \n",
    "data_frame2['sqft_living_sqm']=new_sqft_living # Updating Dataframe\n",
    "data_frame2.rename(columns={ \"sqft_living_sqm\": \"sqft_living\"},inplace=True) # renaming column\n",
    "print (data_frame2.sqft_living.dtype)\n",
    "# Now its int 64 which is correct"
   ]
  },
  {
   "cell_type": "markdown",
   "metadata": {
    "scrolled": true
   },
   "source": [
    "<h4 style=\"color:green\">Finished examining \"sqft_living\" column in both the dataframes </h4>"
   ]
  },
  {
   "cell_type": "markdown",
   "metadata": {
    "collapsed": true
   },
   "source": [
    "<h4 style=\"color:red\">Starting examining \"sqft_lot\" column in both the dataframes </h4>"
   ]
  },
  {
   "cell_type": "code",
   "execution_count": 10,
   "metadata": {},
   "outputs": [
    {
     "name": "stdout",
     "output_type": "stream",
     "text": [
      "int64\n",
      "int64\n"
     ]
    }
   ],
   "source": [
    "# Checking in dataframe 1\n",
    "print (data_frame1.sqft_lot.dtype)\n",
    "# it is the correct data type (int64)\n",
    "\n",
    "# Checking in dataframe 2 \n",
    "# First thing to notice is the Lot Area is given in Square Meters \n",
    "# and we have to convert it to Square Feet \n",
    "# Seocond is the data type which is currently object \n",
    "# and it should be int64 as well\n",
    "new_sqft_lot=[] # Creating a new list to store \n",
    "data_frame2['sqft_lot_sqm']=pd.to_numeric(data_frame2.sqft_lot_sqm).astype(float) # Convertin to float \n",
    "old_sqft_lot=data_frame2.sqft_lot_sqm.tolist()\n",
    "\n",
    "for value in old_sqft_lot: # For each value \n",
    "    new_sqft_lot.append( (round(round(value,7)*10.7639)) ) # Conversion b/w sqm and sqft \n",
    "data_frame2['sqft_lot_sqm']=new_sqft_lot # Updating Dataframe\n",
    "data_frame2.rename(columns={ \"sqft_lot_sqm\": \"sqft_lot\"},inplace=True) # renaming column\n",
    "print (data_frame2.sqft_lot.dtype)\n",
    "# Now its int 64 which is correct"
   ]
  },
  {
   "cell_type": "markdown",
   "metadata": {},
   "source": [
    "<h4 style=\"color:green\">Finished examining \"sqft_lot\" column in both the dataframes </h4>"
   ]
  },
  {
   "cell_type": "markdown",
   "metadata": {},
   "source": [
    "<h4 style=\"color:red\">Starting examining \"floors\" column in both the dataframes </h4>"
   ]
  },
  {
   "cell_type": "code",
   "execution_count": 11,
   "metadata": {},
   "outputs": [
    {
     "name": "stdout",
     "output_type": "stream",
     "text": [
      "float64\n",
      "object\n",
      "float64\n"
     ]
    }
   ],
   "source": [
    "# Checking in dataframe 1\n",
    "print (data_frame1.floors.dtype)\n",
    "# it is the correct data type (float64)\n",
    "\n",
    "# Checking in dataframe 2 \n",
    "# It is in object datatype\n",
    "# converting it to float64\n",
    "print (data_frame2.floors.dtype)\n",
    "data_frame2['floors']=pd.to_numeric(data_frame2.floors).astype(float) # Convertin to float \n",
    "print (data_frame2.floors.dtype) # Now it is in float\n",
    "# Now its float 64 which is correct"
   ]
  },
  {
   "cell_type": "markdown",
   "metadata": {},
   "source": [
    "<h4 style=\"color:green\">Finished examining \"floors\" column in both the dataframes </h4>"
   ]
  },
  {
   "cell_type": "markdown",
   "metadata": {},
   "source": [
    "<h4 style=\"color:red\">Starting examining \"waterfront\" column in both the dataframes </h4>"
   ]
  },
  {
   "cell_type": "code",
   "execution_count": 12,
   "metadata": {
    "scrolled": false
   },
   "outputs": [
    {
     "name": "stdout",
     "output_type": "stream",
     "text": [
      "int64\n",
      "object\n",
      "int64\n"
     ]
    }
   ],
   "source": [
    "# Checking in dataframe 1\n",
    "print (data_frame1.waterfront.dtype)\n",
    "# it is the correct data type (int64)\n",
    "# its 0 if it is not a waterfront property\n",
    "# its 1 if it is  a waterfront property\n",
    "\n",
    "# Checking in dataframe 2 \n",
    "print (data_frame2.waterfront.dtype)\n",
    "# Converting object to int64\n",
    "new_waterfront=[] # For storing new waterfront values\n",
    "old_waterfront=data_frame2.waterfront.tolist()\n",
    "for value in old_waterfront:\n",
    "    if (value==None): # It means it's 0\n",
    "        new_waterfront.append(0)\n",
    "    elif (value==\"Yes\"): # \n",
    "        new_waterfront.append(1)\n",
    "data_frame2['waterfront']=new_waterfront # Updating Series\n",
    "print (data_frame2.waterfront.dtype) # Checking Type\n",
    "# Now its int 64 which is correct"
   ]
  },
  {
   "cell_type": "markdown",
   "metadata": {},
   "source": [
    "<h4 style=\"color:green\">Finished examining \"waterfront\" column in both the dataframes </h4>"
   ]
  },
  {
   "cell_type": "markdown",
   "metadata": {},
   "source": [
    "<h4 style=\"color:red\">Starting examining \"view\" column in both the dataframes </h4>"
   ]
  },
  {
   "cell_type": "code",
   "execution_count": 13,
   "metadata": {},
   "outputs": [
    {
     "name": "stdout",
     "output_type": "stream",
     "text": [
      "int64\n",
      "object\n",
      "int64\n"
     ]
    }
   ],
   "source": [
    "# Checking in dataframe 1\n",
    "print (data_frame1.view.dtype)\n",
    "# it is the correct data type (int64)\n",
    "\n",
    "# Checking in dataframe 2 \n",
    "print (data_frame2.view.dtype)\n",
    "# Converting object to int64\n",
    "new_view=[]# For storing new view values\n",
    "old_view=data_frame2.view.tolist()\n",
    "for value in old_view:\n",
    "    if (value==None): # It means it's 0\n",
    "        new_view.append(0)\n",
    "    elif (value==\"1\"): #  It means it's a 1\n",
    "        new_view.append(1)\n",
    "    elif (value==\"2\"): #  It means it's a 2\n",
    "        new_view.append(2)\n",
    "    elif (value==\"3\"): #  It means it's a 3\n",
    "        new_view.append(3)\n",
    "    elif (value==\"4\"): #  It means it's a 4\n",
    "        new_view.append(4)\n",
    "data_frame2['view']=new_view # Updating Series\n",
    "print (data_frame2.view.dtype) # Checking Type\n",
    "# Now its int 64 which is correct"
   ]
  },
  {
   "cell_type": "markdown",
   "metadata": {},
   "source": [
    "<h4 style=\"color:green\">Finished examining \"view\" column in both the dataframes </h4>"
   ]
  },
  {
   "cell_type": "markdown",
   "metadata": {},
   "source": [
    "<h4 style=\"color:red\">Starting examining \"condition\" column in both the dataframes </h4>"
   ]
  },
  {
   "cell_type": "code",
   "execution_count": 14,
   "metadata": {},
   "outputs": [
    {
     "name": "stdout",
     "output_type": "stream",
     "text": [
      "int64\n",
      "     price  bedrooms  bathrooms  sqft_living  sqft_lot  floors  waterfront  \\\n",
      "0   313000         3       1.50         1340      7912     1.5           0   \n",
      "1  2384000         5       2.50         3650      9050     2.0           0   \n",
      "2   342000         3       2.00         1930     11947     1.0           0   \n",
      "3   420000         3       2.25         2000      8030     1.0           0   \n",
      "4   550000         4       2.50         1940     10500     1.0           0   \n",
      "\n",
      "   view  condition  sqft_above  sqft_basement  yr_built  yr_renovated  \\\n",
      "0     0          3        1340              0      1955           NaN   \n",
      "1     4          5        3370            280      1921           NaN   \n",
      "2     0          4        1930              0      1966           NaN   \n",
      "3     0          4        1000           1000      1963           NaN   \n",
      "4     0          4        1140            800      1976           NaN   \n",
      "\n",
      "                     street       city  statezip country       date  \n",
      "0      18810 Densmore Ave N  Shoreline  WA 98133     USA 2014-05-02  \n",
      "1           709 W Blaine St    Seattle  WA 98119     USA 2014-05-02  \n",
      "2  26206-26214 143rd Ave SE       Kent  WA 98042     USA 2014-05-02  \n",
      "3           857 170th Pl NE   Bellevue  WA 98008     USA 2014-05-02  \n",
      "4         9105 170th Ave NE    Redmond  WA 98052     USA 2014-05-02  \n",
      "The mean of the condition is3\n",
      "count    4600.000000\n",
      "mean        3.451739\n",
      "std         0.677230\n",
      "min         1.000000\n",
      "25%         3.000000\n",
      "50%         3.000000\n",
      "75%         4.000000\n",
      "max         5.000000\n",
      "Name: condition, dtype: float64\n"
     ]
    }
   ],
   "source": [
    "# Checking in dataframe 1\n",
    "print (data_frame1.condition.dtype)\n",
    "# it is the correct data type (int64)\n",
    "print (data_frame1.head())\n",
    "print (\"The mean of the condition is\"+str(round(data_frame1.condition.mean())))\n",
    "# Checking in dataframe 2\n",
    "# There is no Conditon given for this data\n",
    "# So we have to impute these values\n",
    "# For now I am imputing these values as the mean of the \n",
    "# condition in S1\n",
    "\n",
    "print (data_frame1.condition.describe())\n",
    "data_frame2['condition']=3"
   ]
  },
  {
   "cell_type": "markdown",
   "metadata": {},
   "source": [
    "<h4 style=\"color:green\">Finished examining \"condition\" column in both the dataframes </h4>"
   ]
  },
  {
   "cell_type": "markdown",
   "metadata": {},
   "source": [
    "<h4 style=\"color:red\">Starting examining \"sqft_above\" column in both the dataframes </h4>"
   ]
  },
  {
   "cell_type": "code",
   "execution_count": 15,
   "metadata": {},
   "outputs": [
    {
     "name": "stdout",
     "output_type": "stream",
     "text": [
      "int64\n",
      "object\n",
      "int64\n"
     ]
    }
   ],
   "source": [
    "# Checking in dataframe 1\n",
    "print (data_frame1.sqft_above.dtype)\n",
    "# it is the correct data type (int64)\n",
    "\n",
    "# Checking in dataframe 2 \n",
    "print (data_frame2.sqft_above.dtype)\n",
    "# First thing to notice is the sqft_above Area is given in Square Meters \n",
    "# and we have to convert it to Square Feet \n",
    "# Seocond is the data type which is currently object \n",
    "# and it should be int64 as well\n",
    "new_sqft_above=[] # Creating a new list to store \n",
    "data_frame2['sqft_above']=pd.to_numeric(data_frame2.sqft_above).astype(float) # Converting to float \n",
    "old_sqft_above=data_frame2.sqft_above.tolist()\n",
    "\n",
    "for value in old_sqft_above: # For each value \n",
    "    new_sqft_above.append( (round(round(value,7)*10.7639)) ) # Conversion b/w sqm and sqft \n",
    "data_frame2['sqft_above']=new_sqft_above # Updating Dataframe\n",
    "print (data_frame2.sqft_lot.dtype)\n",
    "# Now its int 64 which is correct"
   ]
  },
  {
   "cell_type": "markdown",
   "metadata": {},
   "source": [
    "<h4 style=\"color:green\">Finished examining \"sqft_above\" column in both the dataframes </h4>"
   ]
  },
  {
   "cell_type": "markdown",
   "metadata": {},
   "source": [
    "<h4 style=\"color:red\">Starting examining \"sqft_basement\" column in both the dataframes </h4>"
   ]
  },
  {
   "cell_type": "code",
   "execution_count": 16,
   "metadata": {},
   "outputs": [
    {
     "name": "stdout",
     "output_type": "stream",
     "text": [
      "int64\n",
      "430\n",
      "int64\n"
     ]
    }
   ],
   "source": [
    "# Checking in dataframe 1\n",
    "print (data_frame1.sqft_basement.dtype)\n",
    "# it is the correct data type (int64)\n",
    "\n",
    "# Checking in dataframe 2 \n",
    "# First thing to notice is the sqft_basement Area is given in Square Meters \n",
    "# and we have to convert it to Square Feet \n",
    "# Seocond is the data type which is currently object \n",
    "# and it should be int64 as well\n",
    "new_sqft_basement=[] # Creating a new list to store \n",
    "data_frame2['sqft_basement']=pd.to_numeric(data_frame2.sqft_basement).astype(float) # Converting to float \n",
    "old_sqft_basement=data_frame2.sqft_basement.tolist()\n",
    "\n",
    "for value in old_sqft_basement: # For each value \n",
    "    if value >0:\n",
    "        new_sqft_basement.append( (round(round(value,7)*10.7639)) )\n",
    "    else:\n",
    "        new_sqft_basement.append(0)\n",
    "print (len(new_sqft_basement))\n",
    "data_frame2['sqft_basement']=new_sqft_basement # Updating Dataframe\n",
    "print (data_frame2.sqft_basement.dtype)"
   ]
  },
  {
   "cell_type": "markdown",
   "metadata": {},
   "source": [
    "<h4 style=\"color:green\">Finished examining \"sqft_basement\" column in both the dataframes </h4>"
   ]
  },
  {
   "cell_type": "markdown",
   "metadata": {},
   "source": [
    "<h4 style=\"color:red\">Starting examining \"yr_built\" column in both the dataframes </h4>"
   ]
  },
  {
   "cell_type": "code",
   "execution_count": 17,
   "metadata": {},
   "outputs": [
    {
     "name": "stdout",
     "output_type": "stream",
     "text": [
      "int64\n",
      "object\n",
      "int64\n"
     ]
    }
   ],
   "source": [
    "# Checking in dataframe 1\n",
    "print (data_frame1.yr_built.dtype)\n",
    "# it is the correct data type (int64)\n",
    "\n",
    "# Checking in dataframe 2\n",
    "print (data_frame2.yr_built.dtype) # Object DataType\n",
    "# converting it to int64\n",
    "data_frame2['yr_built']=pd.to_numeric(data_frame2.yr_built).astype(int) # Convertin to float \n",
    "print (data_frame2.yr_built.dtype) # Now it is in float\n",
    "# Now its float 64 which is correct"
   ]
  },
  {
   "cell_type": "markdown",
   "metadata": {},
   "source": [
    "<h4 style=\"color:green\">Finished examining \"yr_built\" column in both the dataframes </h4>"
   ]
  },
  {
   "cell_type": "markdown",
   "metadata": {},
   "source": [
    "<h4 style=\"color:red\">Starting examining \"yr_renovated\" column in both the dataframes </h4>"
   ]
  },
  {
   "cell_type": "code",
   "execution_count": 18,
   "metadata": {},
   "outputs": [
    {
     "name": "stdout",
     "output_type": "stream",
     "text": [
      "float64\n",
      "int64\n",
      "object\n",
      "int64\n"
     ]
    }
   ],
   "source": [
    "# Checking in dataframe 1\n",
    "print (data_frame1.yr_renovated.dtype)\n",
    "data_frame1.yr_renovated.fillna('0',inplace=True) # Updating Nan values to 0 \n",
    "data_frame1['yr_renovated']=pd.to_numeric(data_frame1.yr_renovated).astype(int) # Convertin to int \n",
    "print (data_frame1.yr_renovated.dtype)\n",
    "# it is the incorrect data type (float64)\n",
    "\n",
    "# These values should be replaced by 0 \n",
    "# Checking in dataframe 2\n",
    "print (data_frame2.yr_renovated.dtype) # Object DataType\n",
    "data_frame2['yr_renovated']=pd.to_numeric(data_frame2.yr_renovated).astype(int) # Convertin to int \n",
    "print (data_frame2.yr_renovated.dtype) # Object DataType"
   ]
  },
  {
   "cell_type": "markdown",
   "metadata": {},
   "source": [
    "<h4 style=\"color:green\">Finished examining \"yr_renovated\" column in both the dataframes </h4>"
   ]
  },
  {
   "cell_type": "markdown",
   "metadata": {},
   "source": [
    "<h4 style=\"color:red\">Starting examining \"street\" column in both the dataframes </h4>"
   ]
  },
  {
   "cell_type": "code",
   "execution_count": 19,
   "metadata": {
    "scrolled": false
   },
   "outputs": [
    {
     "name": "stdout",
     "output_type": "stream",
     "text": [
      "object\n",
      "                                                address  bedrooms  bathrooms  \\\n",
      "4600  10515, 115th Place Northeast, Juanita, Kirklan...         3       1.75   \n",
      "4601  1501, Northwest 90th Street, Ballard, Seattle,...         3       3.25   \n",
      "4602  537, North 70th Street, Phinney Ridge, Seattle...         3       2.00   \n",
      "4603  12008, 35th Avenue Northeast, Cedar Park, Lake...         3       1.00   \n",
      "4604  11807, Northeast 105th Court, Juanita, Kirklan...         3       2.50   \n",
      "\n",
      "      sqft_living  sqft_lot  floors  waterfront  view  sqft_above  \\\n",
      "4600         1710      8767     1.0           0     0        1710   \n",
      "4601         1830      1804     3.0           0     0        1830   \n",
      "4602         1780      5720     1.0           0     0         980   \n",
      "4603         1370      6780     2.0           0     0        1370   \n",
      "4604         1530      2913     2.0           0     0        1530   \n",
      "\n",
      "      sqft_basement  yr_built  yr_renovated   price       date  condition  \\\n",
      "4600              0      1986             0  630000 2014-07-09          3   \n",
      "4601              0      2014             0  599950 2014-07-09          3   \n",
      "4602            800      1925             0  680000 2014-07-09          3   \n",
      "4603              0      1930             0  335500 2014-07-09          3   \n",
      "4604              0      1986             0  379000 2014-07-09          3   \n",
      "\n",
      "                           street  \n",
      "4600  10515 115th Place Northeast  \n",
      "4601   1501 Northwest 90th Street  \n",
      "4602        537 North 70th Street  \n",
      "4603  12008 35th Avenue Northeast  \n",
      "4604  11807 Northeast 105th Court  \n"
     ]
    }
   ],
   "source": [
    "# Checking in dataframe 1\n",
    "#print (data_frame1.street)\n",
    "# The issue with data integration is that it might create duplicate records\n",
    "# Although it is the correct data type (object) address is not divided into house # and Street Address\n",
    "# and it would very difficult to find duplicates \n",
    "# so we will have to stick with the current address format of S1 \n",
    "print (data_frame1.street.dtype)\n",
    "# Correct DataType\n",
    "\n",
    "# Checking in dataframe 2\n",
    "# There is no street column so we will have to create our own\n",
    "# the street address is the first and the second item or address \n",
    "street_add=[]\n",
    "abbrev=\"\"\n",
    "old_street_add=data_frame2.address.tolist()\n",
    "for address in old_street_add:\n",
    "    address_list=address.split(\", \")\n",
    "    street_add.append(address_list[0]+\" \"+address_list[1]) # Appending first two part as the street address\n",
    "data_frame2['street']=street_add\n",
    "print (data_frame2.head())"
   ]
  },
  {
   "cell_type": "markdown",
   "metadata": {},
   "source": [
    "<h4 style=\"color:green\">Finished examining \"street\" column in both the dataframes </h4>"
   ]
  },
  {
   "cell_type": "markdown",
   "metadata": {},
   "source": [
    "<h4 style=\"color:red\">Starting examining \"city\" column in both the dataframes </h4>"
   ]
  },
  {
   "cell_type": "code",
   "execution_count": 20,
   "metadata": {
    "scrolled": false
   },
   "outputs": [],
   "source": [
    "# Checking in dataframe 1\n",
    "#print (data_frame1.city.dtype) # Correct\n",
    "cities=set(data_frame1.city)\n",
    "#print (cities) #There are going to be some unique cities as well \n",
    "\n",
    "\n",
    "# Checking in dataframe 2\n",
    "# there is no cities column in dataframe 2 \n",
    "# so we create it \n",
    "# Ususally cities are in the 2nd or the 3rd part of the address\n",
    "# below are the cities which has been identified as a part of dataframe 2 \n",
    "# appending each to the main cities list\n",
    "cities.add('Union Hill-Novelty Hill')\n",
    "cities.add('Stuart')\n",
    "cities.add('Hobart')\n",
    "cities.add('White Center')\n",
    "cities.add('Maple Heights-Lake Desire')\n",
    "cities.add('Klahanie')\n",
    "cities.add('Issaquah')\n",
    "cities.add('East Renton Highlands')\n",
    "cities.add('Lakeland North')\n",
    "cities.add('Lakeland South')\n",
    "cities.add('Ames Lake')\n",
    "cities.add('East Hill-Meridian')\n",
    "cities.add('Krain')\n",
    "cities.add('Lake Morton-Berrydale')\n",
    "cities.add('Cedar Falls')\n",
    "cities.add('Cedar Grove')\n",
    "cities.add('Bryn Mawr-Skyway')\n",
    "cities.add('Georgetown')\n",
    "cities.add('Tanner')\n",
    "cities.add('Cottage Lake')\n",
    "cities.add('Oskams Corner')\n",
    "cities.add('Fairwood')\n",
    "cities.add('Snoqualmie Falls')\n",
    "cities.add('Mirrormont')\n",
    "cities.add('Lea Hill')\n",
    "\n",
    "old_cities=data_frame2.address.tolist()\n",
    "new_cities=[]\n",
    "for address in old_cities:\n",
    "    address_list=address.split(\", \") # Splitting the address\n",
    "    for part in address_list: # Searching for all the parts of the address to find the City Name\n",
    "        if part in cities: # If it is a city name\n",
    "            new_cities.append(part) # Append the matching city name with the record\n",
    "            #print (\"\\t\\t\")\n",
    "    #print (address)\n",
    "data_frame2['city']=new_cities #New column added to second dataframe\n"
   ]
  },
  {
   "cell_type": "markdown",
   "metadata": {},
   "source": [
    "<h4 style=\"color:green\">Finished examining \"city\" column in both the dataframes </h4>"
   ]
  },
  {
   "cell_type": "markdown",
   "metadata": {},
   "source": [
    "<h4 style=\"color:red\">Starting examining \"statezip\" column in both the dataframes </h4>"
   ]
  },
  {
   "cell_type": "code",
   "execution_count": 21,
   "metadata": {
    "scrolled": false
   },
   "outputs": [
    {
     "name": "stdout",
     "output_type": "stream",
     "text": [
      "object\n"
     ]
    }
   ],
   "source": [
    "# Checking in dataframe 1\n",
    "print (data_frame1.statezip.dtype) # Correct\n",
    "#print (set(data_frame1.statezip)) #There are going to be some unique zipcodes as well \n",
    "#print (len(set(data_frame1.statezip))) # A total of 77 Zip Different\n",
    "\n",
    "# Checking in datafrae 2\n",
    "data_frame2.head()\n",
    "# there is no statezip column in dataframe 2 \n",
    "# so we create it \n",
    "old_address=data_frame2.address.tolist()\n",
    "zip_codes=[]\n",
    "i=0\n",
    "for address in old_address:\n",
    "    i=i+1\n",
    "    address_list=address.split(', ')\n",
    "    if (len(address_list[-2]))>5:\n",
    "        zip_codes.append(0)\n",
    "    else:\n",
    "        zip_codes.append(int(address_list[-2]))\n",
    "#data_frame2.head(90)\n",
    "# Four Issues Identified \n",
    "\n",
    "# First in the 4677 78th index \n",
    "#print (data_frame2[data_frame2.index ==4677])\n",
    "# Zip code is 98006\n",
    "\n",
    "# Second in the 4689 90th index\n",
    "#print (data_frame2[data_frame2.index ==4689])\n",
    "# Zip code is 98038\n",
    "\n",
    "# Third in the 4734th index\n",
    "#print (data_frame2[data_frame2.index ==4734])\n",
    "# Zip code is 98006\n",
    "\n",
    "# Fourth in the 4896th index \n",
    "#print (data_frame2[data_frame2.index ==4896])\n",
    "# Zip code is 98011\n",
    "\n",
    "#print (zip_codes)\n",
    "# Updating Zip Codes \n",
    "zip_codes[77]=98006\n",
    "zip_codes[89]=98038\n",
    "zip_codes[134]=98006\n",
    "zip_codes[296]=98011\n",
    "\n",
    "# Zip Codes have been found\n",
    "# Now adding state to make it statezip\n",
    "# As every property address is in \"Washington\" WA  is concatenated before the zipcodes\n",
    "state_zip=[]\n",
    "for zip_code in zip_codes:\n",
    "    state_zip.append(\"WA\"+\" \"+str(zip_code)) # Combining WA with zip codes\n",
    "    \n",
    "data_frame2['statezip']=state_zip # Adding statezip to the dataframe"
   ]
  },
  {
   "cell_type": "markdown",
   "metadata": {},
   "source": [
    "<h4 style=\"color:green\">Finished examining \"statezip\" column in both the dataframes </h4>"
   ]
  },
  {
   "cell_type": "markdown",
   "metadata": {},
   "source": [
    "<h4 style=\"color:red\">Starting examining \"country\" column in both the dataframes </h4>"
   ]
  },
  {
   "cell_type": "code",
   "execution_count": 22,
   "metadata": {},
   "outputs": [
    {
     "name": "stdout",
     "output_type": "stream",
     "text": [
      "object\n"
     ]
    },
    {
     "data": {
      "text/html": [
       "<div>\n",
       "<style scoped>\n",
       "    .dataframe tbody tr th:only-of-type {\n",
       "        vertical-align: middle;\n",
       "    }\n",
       "\n",
       "    .dataframe tbody tr th {\n",
       "        vertical-align: top;\n",
       "    }\n",
       "\n",
       "    .dataframe thead th {\n",
       "        text-align: right;\n",
       "    }\n",
       "</style>\n",
       "<table border=\"1\" class=\"dataframe\">\n",
       "  <thead>\n",
       "    <tr style=\"text-align: right;\">\n",
       "      <th></th>\n",
       "      <th>address</th>\n",
       "      <th>bedrooms</th>\n",
       "      <th>bathrooms</th>\n",
       "      <th>sqft_living</th>\n",
       "      <th>sqft_lot</th>\n",
       "      <th>floors</th>\n",
       "      <th>waterfront</th>\n",
       "      <th>view</th>\n",
       "      <th>sqft_above</th>\n",
       "      <th>sqft_basement</th>\n",
       "      <th>yr_built</th>\n",
       "      <th>yr_renovated</th>\n",
       "      <th>price</th>\n",
       "      <th>date</th>\n",
       "      <th>condition</th>\n",
       "      <th>street</th>\n",
       "      <th>city</th>\n",
       "      <th>statezip</th>\n",
       "      <th>country</th>\n",
       "    </tr>\n",
       "  </thead>\n",
       "  <tbody>\n",
       "    <tr>\n",
       "      <th>4600</th>\n",
       "      <td>10515, 115th Place Northeast, Juanita, Kirklan...</td>\n",
       "      <td>3</td>\n",
       "      <td>1.75</td>\n",
       "      <td>1710</td>\n",
       "      <td>8767</td>\n",
       "      <td>1.0</td>\n",
       "      <td>0</td>\n",
       "      <td>0</td>\n",
       "      <td>1710</td>\n",
       "      <td>0</td>\n",
       "      <td>1986</td>\n",
       "      <td>0</td>\n",
       "      <td>630000</td>\n",
       "      <td>2014-07-09</td>\n",
       "      <td>3</td>\n",
       "      <td>10515 115th Place Northeast</td>\n",
       "      <td>Kirkland</td>\n",
       "      <td>WA 98033</td>\n",
       "      <td>USA</td>\n",
       "    </tr>\n",
       "    <tr>\n",
       "      <th>4601</th>\n",
       "      <td>1501, Northwest 90th Street, Ballard, Seattle,...</td>\n",
       "      <td>3</td>\n",
       "      <td>3.25</td>\n",
       "      <td>1830</td>\n",
       "      <td>1804</td>\n",
       "      <td>3.0</td>\n",
       "      <td>0</td>\n",
       "      <td>0</td>\n",
       "      <td>1830</td>\n",
       "      <td>0</td>\n",
       "      <td>2014</td>\n",
       "      <td>0</td>\n",
       "      <td>599950</td>\n",
       "      <td>2014-07-09</td>\n",
       "      <td>3</td>\n",
       "      <td>1501 Northwest 90th Street</td>\n",
       "      <td>Seattle</td>\n",
       "      <td>WA 98117</td>\n",
       "      <td>USA</td>\n",
       "    </tr>\n",
       "    <tr>\n",
       "      <th>4602</th>\n",
       "      <td>537, North 70th Street, Phinney Ridge, Seattle...</td>\n",
       "      <td>3</td>\n",
       "      <td>2.00</td>\n",
       "      <td>1780</td>\n",
       "      <td>5720</td>\n",
       "      <td>1.0</td>\n",
       "      <td>0</td>\n",
       "      <td>0</td>\n",
       "      <td>980</td>\n",
       "      <td>800</td>\n",
       "      <td>1925</td>\n",
       "      <td>0</td>\n",
       "      <td>680000</td>\n",
       "      <td>2014-07-09</td>\n",
       "      <td>3</td>\n",
       "      <td>537 North 70th Street</td>\n",
       "      <td>Seattle</td>\n",
       "      <td>WA 98103</td>\n",
       "      <td>USA</td>\n",
       "    </tr>\n",
       "    <tr>\n",
       "      <th>4603</th>\n",
       "      <td>12008, 35th Avenue Northeast, Cedar Park, Lake...</td>\n",
       "      <td>3</td>\n",
       "      <td>1.00</td>\n",
       "      <td>1370</td>\n",
       "      <td>6780</td>\n",
       "      <td>2.0</td>\n",
       "      <td>0</td>\n",
       "      <td>0</td>\n",
       "      <td>1370</td>\n",
       "      <td>0</td>\n",
       "      <td>1930</td>\n",
       "      <td>0</td>\n",
       "      <td>335500</td>\n",
       "      <td>2014-07-09</td>\n",
       "      <td>3</td>\n",
       "      <td>12008 35th Avenue Northeast</td>\n",
       "      <td>Seattle</td>\n",
       "      <td>WA 98125</td>\n",
       "      <td>USA</td>\n",
       "    </tr>\n",
       "    <tr>\n",
       "      <th>4604</th>\n",
       "      <td>11807, Northeast 105th Court, Juanita, Kirklan...</td>\n",
       "      <td>3</td>\n",
       "      <td>2.50</td>\n",
       "      <td>1530</td>\n",
       "      <td>2913</td>\n",
       "      <td>2.0</td>\n",
       "      <td>0</td>\n",
       "      <td>0</td>\n",
       "      <td>1530</td>\n",
       "      <td>0</td>\n",
       "      <td>1986</td>\n",
       "      <td>0</td>\n",
       "      <td>379000</td>\n",
       "      <td>2014-07-09</td>\n",
       "      <td>3</td>\n",
       "      <td>11807 Northeast 105th Court</td>\n",
       "      <td>Kirkland</td>\n",
       "      <td>WA 98033</td>\n",
       "      <td>USA</td>\n",
       "    </tr>\n",
       "  </tbody>\n",
       "</table>\n",
       "</div>"
      ],
      "text/plain": [
       "                                                address  bedrooms  bathrooms  \\\n",
       "4600  10515, 115th Place Northeast, Juanita, Kirklan...         3       1.75   \n",
       "4601  1501, Northwest 90th Street, Ballard, Seattle,...         3       3.25   \n",
       "4602  537, North 70th Street, Phinney Ridge, Seattle...         3       2.00   \n",
       "4603  12008, 35th Avenue Northeast, Cedar Park, Lake...         3       1.00   \n",
       "4604  11807, Northeast 105th Court, Juanita, Kirklan...         3       2.50   \n",
       "\n",
       "      sqft_living  sqft_lot  floors  waterfront  view  sqft_above  \\\n",
       "4600         1710      8767     1.0           0     0        1710   \n",
       "4601         1830      1804     3.0           0     0        1830   \n",
       "4602         1780      5720     1.0           0     0         980   \n",
       "4603         1370      6780     2.0           0     0        1370   \n",
       "4604         1530      2913     2.0           0     0        1530   \n",
       "\n",
       "      sqft_basement  yr_built  yr_renovated   price       date  condition  \\\n",
       "4600              0      1986             0  630000 2014-07-09          3   \n",
       "4601              0      2014             0  599950 2014-07-09          3   \n",
       "4602            800      1925             0  680000 2014-07-09          3   \n",
       "4603              0      1930             0  335500 2014-07-09          3   \n",
       "4604              0      1986             0  379000 2014-07-09          3   \n",
       "\n",
       "                           street      city  statezip country  \n",
       "4600  10515 115th Place Northeast  Kirkland  WA 98033     USA  \n",
       "4601   1501 Northwest 90th Street   Seattle  WA 98117     USA  \n",
       "4602        537 North 70th Street   Seattle  WA 98103     USA  \n",
       "4603  12008 35th Avenue Northeast   Seattle  WA 98125     USA  \n",
       "4604  11807 Northeast 105th Court  Kirkland  WA 98033     USA  "
      ]
     },
     "execution_count": 22,
     "metadata": {},
     "output_type": "execute_result"
    }
   ],
   "source": [
    "# As the Only Country is USA \n",
    "# Checking in dataframe 1\n",
    "print (data_frame1.country.dtype) # Correct\n",
    "# The only value is USA\n",
    "\n",
    "# Checking in dataframe 2 \n",
    "# There is no country column in dataframe 2 \n",
    "# So I have to create it\n",
    "data_frame2['country']='USA'\n",
    "data_frame2.head()"
   ]
  },
  {
   "cell_type": "markdown",
   "metadata": {},
   "source": [
    "<h4 style=\"color:green\">Finished examining \"country\" column in both the dataframes </h4>"
   ]
  },
  {
   "cell_type": "markdown",
   "metadata": {
    "collapsed": true
   },
   "source": [
    "<h1>Merging Data</h1>\n",
    "<h3>Now concatenating the dataframes and removing the duplicates</h3>"
   ]
  },
  {
   "cell_type": "code",
   "execution_count": 23,
   "metadata": {},
   "outputs": [
    {
     "data": {
      "text/plain": [
       "Index(['price', 'bedrooms', 'bathrooms', 'sqft_living', 'sqft_lot', 'floors',\n",
       "       'waterfront', 'view', 'condition', 'sqft_above', 'sqft_basement',\n",
       "       'yr_built', 'yr_renovated', 'street', 'city', 'statezip', 'country',\n",
       "       'date'],\n",
       "      dtype='object')"
      ]
     },
     "execution_count": 23,
     "metadata": {},
     "output_type": "execute_result"
    }
   ],
   "source": [
    "# Checking the no of columns in dataframe 1\n",
    "data_frame1.columns"
   ]
  },
  {
   "cell_type": "code",
   "execution_count": 24,
   "metadata": {},
   "outputs": [
    {
     "data": {
      "text/plain": [
       "Index(['bedrooms', 'bathrooms', 'sqft_living', 'sqft_lot', 'floors',\n",
       "       'waterfront', 'view', 'sqft_above', 'sqft_basement', 'yr_built',\n",
       "       'yr_renovated', 'price', 'date', 'condition', 'street', 'city',\n",
       "       'statezip', 'country'],\n",
       "      dtype='object')"
      ]
     },
     "execution_count": 24,
     "metadata": {},
     "output_type": "execute_result"
    }
   ],
   "source": [
    "# Checking the no of columns in dataframe 2\n",
    "data_frame2.drop('address',axis=1,inplace=True)\n",
    "data_frame2.columns"
   ]
  },
  {
   "cell_type": "code",
   "execution_count": 25,
   "metadata": {},
   "outputs": [
    {
     "name": "stderr",
     "output_type": "stream",
     "text": [
      "/anaconda3/lib/python3.7/site-packages/ipykernel_launcher.py:2: FutureWarning: Sorting because non-concatenation axis is not aligned. A future version\n",
      "of pandas will change to not sort by default.\n",
      "\n",
      "To accept the future behavior, pass 'sort=False'.\n",
      "\n",
      "To retain the current behavior and silence the warning, pass 'sort=True'.\n",
      "\n",
      "  \n"
     ]
    }
   ],
   "source": [
    "# Merging \n",
    "final_dataframe = pd.concat([data_frame1, data_frame2])\n"
   ]
  },
  {
   "cell_type": "code",
   "execution_count": 26,
   "metadata": {},
   "outputs": [
    {
     "name": "stdout",
     "output_type": "stream",
     "text": [
      "(5030, 18)\n"
     ]
    }
   ],
   "source": [
    "# Sorting the columns\n",
    "final_dataframe = final_dataframe[['date', 'price', 'bedrooms','bathrooms','sqft_living','sqft_lot','floors','waterfront'\n",
    "                       ,'view','condition','sqft_above','sqft_basement','yr_built','yr_renovated',\n",
    "                      'street','city','statezip','country']]\n",
    "print (final_dataframe.shape)"
   ]
  },
  {
   "cell_type": "code",
   "execution_count": 27,
   "metadata": {
    "scrolled": true
   },
   "outputs": [
    {
     "name": "stdout",
     "output_type": "stream",
     "text": [
      "30\n",
      "(5000, 18)\n"
     ]
    },
    {
     "name": "stderr",
     "output_type": "stream",
     "text": [
      "/anaconda3/lib/python3.7/site-packages/ipykernel_launcher.py:4: FutureWarning: Interpreting tuple 'by' as a list of keys, rather than a single key. Use 'by=[...]' instead of 'by=(...)'. In the future, a tuple will always mean a single key.\n",
      "  after removing the cwd from sys.path.\n"
     ]
    }
   ],
   "source": [
    "# Searching for Duplicates\n",
    "\n",
    "duplicated_rows=final_dataframe[final_dataframe.duplicated(['statezip','yr_built','price','sqft_living','sqft_lot'], keep='first')\n",
    "               ].groupby(('statezip', 'yr_built','price','sqft_living','sqft_lot')).all()\n",
    "print (len(duplicated_rows))\n",
    "\n",
    "# Removing Duplicates \n",
    "final_dataframe=final_dataframe.drop_duplicates(['statezip','yr_built','price','sqft_living','sqft_lot'], keep='last')\n",
    "print (final_dataframe.shape)\n",
    "# Removing 30 Duplicate Records"
   ]
  },
  {
   "cell_type": "code",
   "execution_count": 28,
   "metadata": {},
   "outputs": [],
   "source": [
    "\n",
    "combined_dataframe=final_dataframe\n",
    "combined_dataframe.to_csv('integrated.csv',index=False)"
   ]
  },
  {
   "cell_type": "markdown",
   "metadata": {
    "collapsed": true
   },
   "source": [
    "<h3 style=\"color:red\">Task 1 Ended </h3>"
   ]
  },
  {
   "cell_type": "markdown",
   "metadata": {
    "collapsed": true
   },
   "source": [
    "<h1>Part B -Data Normalization</h1>\n"
   ]
  },
  {
   "cell_type": "code",
   "execution_count": 31,
   "metadata": {},
   "outputs": [
    {
     "name": "stderr",
     "output_type": "stream",
     "text": [
      "/anaconda3/lib/python3.7/site-packages/ipykernel_launcher.py:3: FutureWarning: from_csv is deprecated. Please use read_csv(...) instead. Note that some of the default arguments are different, so please refer to the documentation for from_csv when changing your function calls\n",
      "  This is separate from the ipykernel package so we can avoid doing imports until\n"
     ]
    }
   ],
   "source": [
    "# Loading the combined csv file \n",
    "# Opening file and Converting it into pandas Dataframe\n",
    "data_frame_b=pd.DataFrame.from_csv('integrated.csv')\n",
    "data_frame_b['date']=data_frame_b.index\n",
    "\n",
    "data_frame_b.reset_index(drop=True,inplace=True)\n",
    "data_frame_b.dtypes\n",
    "data_frame_b.shape\n",
    "data_frame_b.head()\n",
    "# Sorting the columns\n",
    "data_frame_b = data_frame_b[['date', 'price', 'bedrooms','bathrooms','sqft_living','sqft_lot','floors','waterfront'\n",
    "                       ,'view','condition','sqft_above','sqft_basement','yr_built','yr_renovated',\n",
    "                      'street','city','statezip','country']]"
   ]
  },
  {
   "cell_type": "markdown",
   "metadata": {
    "collapsed": true
   },
   "source": [
    "<h3>Applying z-score normalization</h3>"
   ]
  },
  {
   "cell_type": "code",
   "execution_count": 32,
   "metadata": {},
   "outputs": [],
   "source": [
    "std_scale = preprocessing.StandardScaler().fit(data_frame_b[['price']])\n",
    "df_std = std_scale.transform(data_frame_b[['price']]) # an array not a df\n",
    "df_std[0:5]\n",
    "data_frame_b['Price_Scaled'] = df_std[:,0] #  Price scaled Column"
   ]
  },
  {
   "cell_type": "code",
   "execution_count": 33,
   "metadata": {},
   "outputs": [
    {
     "name": "stdout",
     "output_type": "stream",
     "text": [
      "The Mean of Price is Now: 0\n",
      "The Standard Deviation of Price is now : 1\n"
     ]
    },
    {
     "data": {
      "text/plain": [
       "<matplotlib.axes._subplots.AxesSubplot at 0x1a284f0438>"
      ]
     },
     "execution_count": 33,
     "metadata": {},
     "output_type": "execute_result"
    },
    {
     "data": {
      "image/png": "[encoded data removed]",
      "text/plain": [
       "<Figure size 432x288 with 1 Axes>"
      ]
     },
     "metadata": {
      "needs_background": "light"
     },
     "output_type": "display_data"
    }
   ],
   "source": [
    "data_frame_b.head()\n",
    "print (\"The Mean of Price is Now: \"+str(round(data_frame_b.Price_Scaled.mean()))) \n",
    "# checking that μ = 0 \n",
    "print (\"The Standard Deviation of Price is now : \"+str(round(data_frame_b.Price_Scaled.std())))\n",
    "# checking σ = 1\n",
    "\n",
    "# Plotting the price \n",
    "data_frame_b[\"price\"].plot()"
   ]
  },
  {
   "cell_type": "code",
   "execution_count": 34,
   "metadata": {},
   "outputs": [
    {
     "data": {
      "text/plain": [
       "<matplotlib.axes._subplots.AxesSubplot at 0x1a28fa67f0>"
      ]
     },
     "execution_count": 34,
     "metadata": {},
     "output_type": "execute_result"
    },
    {
     "data": {
      "image/png": "[encoded data removed]",
      "text/plain": [
       "<Figure size 432x288 with 1 Axes>"
      ]
     },
     "metadata": {
      "needs_background": "light"
     },
     "output_type": "display_data"
    }
   ],
   "source": [
    "data_frame_b['Price_Scaled'].plot()"
   ]
  },
  {
   "cell_type": "markdown",
   "metadata": {},
   "source": [
    "<h3>You can see from above graphs that both original and standardized data are in the same shape but shifted.</h3>"
   ]
  },
  {
   "cell_type": "markdown",
   "metadata": {},
   "source": [
    "<h1> Applying MinMax Normalization</h1>"
   ]
  },
  {
   "cell_type": "code",
   "execution_count": 35,
   "metadata": {},
   "outputs": [
    {
     "data": {
      "text/plain": [
       "array([[0.03364593],\n",
       "       [0.33015964],\n",
       "       [0.03779798],\n",
       "       [0.04896557],\n",
       "       [0.06757821]])"
      ]
     },
     "execution_count": 35,
     "metadata": {},
     "output_type": "execute_result"
    }
   ],
   "source": [
    "minmax_scale = preprocessing.MinMaxScaler().fit(data_frame_b[['price']])\n",
    "df_minmax = minmax_scale.transform(data_frame_b[['price']])\n",
    "df_minmax[0:5]"
   ]
  },
  {
   "cell_type": "code",
   "execution_count": 36,
   "metadata": {},
   "outputs": [
    {
     "name": "stdout",
     "output_type": "stream",
     "text": [
      "The Minimum price value is 78000\n",
      "The Maximum price value is 7062500\n"
     ]
    }
   ],
   "source": [
    "minA = data_frame_b.price.min() # Finding the Minima\n",
    "maxA = data_frame_b.price.max() # Finding the Maxima\n",
    "\n",
    "print (\"The Minimum price value is \"+str(minA))\n",
    "print (\"The Maximum price value is \"+str(maxA))"
   ]
  },
  {
   "cell_type": "code",
   "execution_count": 37,
   "metadata": {},
   "outputs": [
    {
     "name": "stdout",
     "output_type": "stream",
     "text": [
      "The Minimum price value after Min/Max Normalization is 0.0\n",
      "The Maximum price value after Min/Max Normalization is 1.0\n"
     ]
    }
   ],
   "source": [
    "print (\"The Minimum price value after Min/Max Normalization is \"+str(df_minmax.min()))\n",
    "print (\"The Maximum price value after Min/Max Normalization is \"+str(df_minmax.max()))\n",
    "\n"
   ]
  },
  {
   "cell_type": "code",
   "execution_count": 38,
   "metadata": {},
   "outputs": [
    {
     "data": {
      "text/plain": [
       "[<matplotlib.lines.Line2D at 0x1a2910ec18>]"
      ]
     },
     "execution_count": 38,
     "metadata": {},
     "output_type": "execute_result"
    },
    {
     "data": {
      "image/png": "[encoded data removed]",
      "text/plain": [
       "<Figure size 432x288 with 1 Axes>"
      ]
     },
     "metadata": {
      "needs_background": "light"
     },
     "output_type": "display_data"
    }
   ],
   "source": [
    "#plotting Min Max normalization \n",
    "plt.plot(df_minmax)"
   ]
  },
  {
   "cell_type": "code",
   "execution_count": 39,
   "metadata": {
    "scrolled": true
   },
   "outputs": [
    {
     "data": {
      "text/plain": [
       "<matplotlib.axes._subplots.AxesSubplot at 0x1a29119400>"
      ]
     },
     "execution_count": 39,
     "metadata": {},
     "output_type": "execute_result"
    },
    {
     "data": {
      "image/png": "[encoded data removed]",
      "text/plain": [
       "<Figure size 432x288 with 1 Axes>"
      ]
     },
     "metadata": {
      "needs_background": "light"
     },
     "output_type": "display_data"
    }
   ],
   "source": [
    "# Plotting scaled price\n",
    "data_frame_b['Price_Scaled'].plot()"
   ]
  },
  {
   "cell_type": "markdown",
   "metadata": {},
   "source": [
    "<h3>You can see from above graph that both Z-Score and Min-Max Normalization do not affect the shape\n",
    "<br>\n",
    "But they affect the range of price\n",
    "</h3>"
   ]
  },
  {
   "cell_type": "markdown",
   "metadata": {},
   "source": [
    "<h3>Applying Log Transformation</h3>"
   ]
  },
  {
   "cell_type": "code",
   "execution_count": 40,
   "metadata": {},
   "outputs": [],
   "source": [
    "data_frame_b['log_price'] = None # Creating a column to store the log_prices\n",
    "i = 0 #Index\n",
    "for row in data_frame_b.iterrows():\n",
    "    data_frame_b['log_price'].at[i] = math.log(data_frame_b[\"price\"][i]) # Taking log of the current price\n",
    "    i += 1 #incrementing index"
   ]
  },
  {
   "cell_type": "code",
   "execution_count": null,
   "metadata": {},
   "outputs": [],
   "source": [
    "plt.hist(data_frame_b.log_price,bins=60)\n",
    "# Shows a positively skewed normal distribution"
   ]
  },
  {
   "cell_type": "code",
   "execution_count": null,
   "metadata": {},
   "outputs": [],
   "source": [
    "print (\"The Mean Log Price is \"+str(round(data_frame_b.log_price.mean(),2)))\n",
    "print (\"The Median Log Price is \"+str(round(data_frame_b.log_price.median(),2)))\n",
    "print (\"The Mode Log Price is \"+str(data_frame_b.log_price.mode()))"
   ]
  },
  {
   "cell_type": "markdown",
   "metadata": {},
   "source": [
    "<h3>Final Result</h3>\n",
    "\n",
    "<h3>Log Transformation</h3>\n",
    "<h4 style=\"color:green\">The above distribution looks like a very slightly Positive/Right Skewed Distribution As the Mean is very slightly greater than the Median and the mode is before the mean<br>\n",
    "So, the best transformation for this data is log transformation. As the data is positively skewed. we will need to compress large values. That means we need to move down the ladder of powers to spread out data that is clustered at lower values.\n",
    "</h4>"
   ]
  },
  {
   "cell_type": "markdown",
   "metadata": {},
   "source": [
    "<h3 style=\"color:red\">Task 2 Ended </h3>"
   ]
  }
 ],
 "metadata": {
  "kernelspec": {
   "display_name": "Python 3",
   "language": "python",
   "name": "python3"
  },
  "language_info": {
   "codemirror_mode": {
    "name": "ipython",
    "version": 3
   },
   "file_extension": ".py",
   "mimetype": "text/x-python",
   "name": "python",
   "nbconvert_exporter": "python",
   "pygments_lexer": "ipython3",
   "version": "3.7.0"
  }
 },
 "nbformat": 4,
 "nbformat_minor": 2
}
